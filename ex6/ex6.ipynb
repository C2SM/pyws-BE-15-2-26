{
 "metadata": {
  "name": "",
  "signature": "sha256:e4fd56e056307c0d3803325e9e57fa67d4b79277108b155b8cc71b30b7bd55b3"
 },
 "nbformat": 3,
 "nbformat_minor": 0,
 "worksheets": [
  {
   "cells": [
    {
     "cell_type": "markdown",
     "metadata": {},
     "source": [
      "<center><span style=\"font-size:250%\"> Bonus material - some basic Python coding</span></center>\n",
      "\n",
      "<div class=\"alert alert-success\" style=\"margin: 10px\">\n",
      "Exercise 6.2 requires a dictionary file, such as `/usr/share/dict/american`, which should be present on any UNIX-like OS.\n",
      "</div>"
     ]
    },
    {
     "cell_type": "markdown",
     "metadata": {},
     "source": [
      "## Exercise 6.1<br>\n",
      "Calculate Pi using the Wallis formula:<br>\n",
      "\n",
      "$\n",
      " \\Large\\pi = 2\\cdot{\\LARGE\\Pi}_{i=1}^\\infty\\frac{4i^2}{4i^2 - 1}\n",
      "$\n",
      "\n",
      "* Ok, not exactly :)\n",
      "* But find at least 2 ways to do it!\n",
      "* Bonus point if you use recursion."
     ]
    },
    {
     "cell_type": "markdown",
     "metadata": {},
     "source": [
      "## Exercise 6.2\n",
      "Based on the system dictionary, find\n",
      "1. Palindromes (words that remain the same when read backward), and\n",
      "2. Semordnilap (words that become other words, when read backward).\n",
      "\n",
      "What are the longest five palindromes and semordnilap, respectively?<br />\n",
      "Plot histograms of the palindrome- and semordnilap-distribution."
     ]
    },
    {
     "cell_type": "code",
     "collapsed": false,
     "input": [
      "# The path to the dictionary:\n",
      "wordspath = \"/usr/share/dict/american\"\n",
      "# Each line of the file contains one word\n",
      "\n",
      "# Read the words in the file into a list; don't forget to close the file when you are done.\n",
      "\n",
      "\n"
     ],
     "language": "python",
     "metadata": {},
     "outputs": []
    },
    {
     "cell_type": "code",
     "collapsed": false,
     "input": [
      "# Look at a couple of words. What might be systematically wrong here?\n",
      "# Fix it using str.strip()\n",
      "\n",
      "\n"
     ],
     "language": "python",
     "metadata": {},
     "outputs": []
    },
    {
     "cell_type": "code",
     "collapsed": false,
     "input": [
      "# Disregard capitalization\n",
      "# Hint: Use \"str.lower()\"\n",
      "# Test with 15th word from the list: \"Aaliyah's\"."
     ],
     "language": "python",
     "metadata": {},
     "outputs": []
    },
    {
     "cell_type": "code",
     "collapsed": false,
     "input": [
      "#### EXTRA BONUS - IGNORE IN FIRST TRY !!! ##########\n",
      "# remove non-letter characters, such as apostrophes\n",
      "\n",
      "## Hint: Use \"char()\"; the ASCII-codes for lower-case letters are 97 to 122.\n",
      "## Hint: The \"[f(x) for x in list if condition]\" - \"filter\" construct could be handy here.\n",
      "## Hint: How to make a list of characters into a string? Use \" ''.join(list) \".\n",
      "## Hint: Also nested list-comprehension can be used.\n",
      "\n",
      "\n",
      "\n"
     ],
     "language": "python",
     "metadata": {},
     "outputs": []
    },
    {
     "cell_type": "code",
     "collapsed": false,
     "input": [
      "# Find semordnilap. (A semornildap is a word that, spelled backwards, gives a different word)\n",
      "## Hint: Maybe use the \"set\"-datatype\n",
      "## Hint:The string-method \"list.sort(key=len)\" will sort a list according to len(list_element).\n",
      "\n"
     ],
     "language": "python",
     "metadata": {},
     "outputs": []
    },
    {
     "cell_type": "code",
     "collapsed": false,
     "input": [
      "# Find palindromes.\n",
      "\n"
     ],
     "language": "python",
     "metadata": {},
     "outputs": []
    },
    {
     "cell_type": "code",
     "collapsed": false,
     "input": [
      "# Plot histograms\n",
      "# Hint: use \"hist()\"\n",
      "\n",
      "\n"
     ],
     "language": "python",
     "metadata": {},
     "outputs": []
    },
    {
     "cell_type": "markdown",
     "metadata": {},
     "source": [
      "## Exercise 6.3\n",
      "Write a program that takes an integer as user input and reports whether that is a prime number or not.\n"
     ]
    },
    {
     "cell_type": "code",
     "collapsed": false,
     "input": [],
     "language": "python",
     "metadata": {},
     "outputs": []
    }
   ],
   "metadata": {}
  }
 ]
}