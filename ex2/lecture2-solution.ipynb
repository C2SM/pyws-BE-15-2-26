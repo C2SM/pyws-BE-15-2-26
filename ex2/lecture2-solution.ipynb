{
 "metadata": {
  "name": "",
  "signature": "sha256:aed1e869d3d91f7ab2dfbc9f76cd4023a4330f030d38eba5a2b13fa012f76c7c"
 },
 "nbformat": 3,
 "nbformat_minor": 0,
 "worksheets": [
  {
   "cells": [
    {
     "cell_type": "markdown",
     "metadata": {},
     "source": [
      "# A little exercise\n",
      "In the next session, we need several files from the ERA-Interim reanalysis dataset.<br />\n",
      "Write a function that takes year, month, startday, and endday as parameters, and returns\n",
      "list a of corresponding Z-level filenames (with absolute paths).\n",
      "The input parameters have to be numeric (not string)."
     ]
    },
    {
     "cell_type": "code",
     "collapsed": false,
     "input": [
      "# The path to erainterim\n",
      "root = '../ex3/files'\n",
      "\n",
      "# below that directory the path is <year>/<month>/.\n",
      "# <year> has values from 1979 - 2014, <month> from 01 - 12.\n",
      "# Under the <month> directory is a large number of files.\n",
      "# The Z-files have the form:\n",
      "# Z<year><month><day>_hour\n",
      "# For example:\n",
      "# <root>/2011/10/Z20111005_18\n",
      "# refers to Oct. 5, 2011, 18:00h"
     ],
     "language": "python",
     "metadata": {},
     "outputs": [],
     "prompt_number": 7
    },
    {
     "cell_type": "code",
     "collapsed": false,
     "input": [
      "# helpful modules\n",
      "import os.path\n",
      "import glob\n",
      "\n",
      "# example parameters\n",
      "startday = 5\n",
      "endday = 10\n",
      "month = 10\n",
      "year = 2011\n",
      "\n",
      "# your function here:\n",
      "def get_zfile(startday, endday, month, year):\n",
      "    \n",
      "    path = os.path.join(root,str(year),\"{:02d}\".format(month))\n",
      "    filenames = []\n",
      "    for day in range(startday, endday + 1):\n",
      "        fn1 = \"Z{}{:02d}{:02d}*\".format(year,month,day)\n",
      "        filenames = filenames + glob.glob(os.path.join(path, fn1))\n",
      "    filenames.sort()\n",
      "    return(filenames)\n",
      "\n",
      "files = get_zfile(startday, endday, month, year)\n",
      "files"
     ],
     "language": "python",
     "metadata": {},
     "outputs": [
      {
       "metadata": {},
       "output_type": "pyout",
       "prompt_number": 6,
       "text": [
        "['../ex3/files/2011/10/Z20111005_00',\n",
        " '../ex3/files/2011/10/Z20111005_06',\n",
        " '../ex3/files/2011/10/Z20111005_12',\n",
        " '../ex3/files/2011/10/Z20111005_18',\n",
        " '../ex3/files/2011/10/Z20111006_00',\n",
        " '../ex3/files/2011/10/Z20111006_06',\n",
        " '../ex3/files/2011/10/Z20111006_12',\n",
        " '../ex3/files/2011/10/Z20111006_18',\n",
        " '../ex3/files/2011/10/Z20111007_00',\n",
        " '../ex3/files/2011/10/Z20111007_06',\n",
        " '../ex3/files/2011/10/Z20111007_12',\n",
        " '../ex3/files/2011/10/Z20111007_18',\n",
        " '../ex3/files/2011/10/Z20111008_00',\n",
        " '../ex3/files/2011/10/Z20111008_06',\n",
        " '../ex3/files/2011/10/Z20111008_12',\n",
        " '../ex3/files/2011/10/Z20111008_18',\n",
        " '../ex3/files/2011/10/Z20111009_00',\n",
        " '../ex3/files/2011/10/Z20111009_06',\n",
        " '../ex3/files/2011/10/Z20111009_12',\n",
        " '../ex3/files/2011/10/Z20111009_18',\n",
        " '../ex3/files/2011/10/Z20111010_00',\n",
        " '../ex3/files/2011/10/Z20111010_06',\n",
        " '../ex3/files/2011/10/Z20111010_12']"
       ]
      }
     ],
     "prompt_number": 6
    }
   ],
   "metadata": {}
  }
 ]
}