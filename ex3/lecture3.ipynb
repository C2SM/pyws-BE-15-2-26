{
 "metadata": {
  "name": "",
  "signature": "sha256:d79e6b94be4f053d07d35f483d04ad7bf71600bcf2cc3a2ab35bb58f47649c11"
 },
 "nbformat": 3,
 "nbformat_minor": 0,
 "worksheets": [
  {
   "cells": [
    {
     "cell_type": "markdown",
     "metadata": {},
     "source": [
      "## Download the [Presentation](../slides/ex3/intro_modules.pdf) introducting netCDF, matplotlib and numpy."
     ]
    },
    {
     "cell_type": "code",
     "collapsed": false,
     "input": [
      "import numpy as np\n",
      "import scipy as sp\n",
      "import matplotlib.pyplot as plt\n",
      "from mpl_toolkits.basemap import Basemap\n",
      "import matplotlib\n",
      "from datetime import datetime, timedelta\n",
      "import netCDF4"
     ],
     "language": "python",
     "metadata": {},
     "outputs": [],
     "prompt_number": 4
    },
    {
     "cell_type": "markdown",
     "metadata": {},
     "source": [
      "## Load the list of files\n",
      "In the \"little exercise\" of lecture 2, you created a list of ERA-interim files with data between 05-10-2011 and 10-10-2011 using modules `os.path` and `glob`. Here is a different way to achieve the same goal. What, essentially is the difference between the two approaches? Which one is preferable, and why?"
     ]
    },
    {
     "cell_type": "code",
     "collapsed": false,
     "input": [
      "datapath = './files/2011/10/'\n",
      "datapath = './files/2011/10/'\n",
      "start = datetime(2011,10,5,0)\n",
      "end = datetime(2011,10,10,12)\n",
      "def interval(start, end, delta):\n",
      "    curr = start\n",
      "    while curr <= end:\n",
      "        yield curr\n",
      "        curr += delta\n",
      "files = [ datapath + date.strftime('Z%Y%m%d_%H') for date in interval(start, end, timedelta(hours=6))]\n",
      "files"
     ],
     "language": "python",
     "metadata": {},
     "outputs": []
    },
    {
     "cell_type": "markdown",
     "metadata": {},
     "source": [
      "## Exercise 3.1\n",
      "### Read the files\n",
      "* List the variables in the netCDF - file \"pressure_cst\".\n",
      "* Use variable `aklay` in this file as pressure.\n",
      "* Use the help system to find out what `netCDF4.MFDataset` does.\n",
      "* Use this method to access the relevant files (see above).\n"
     ]
    },
    {
     "cell_type": "code",
     "collapsed": false,
     "input": [
      "# Hint\n",
      "pfile = netCDF4.Dataset(datapath + 'pressure_cst')\n",
      "print pfile.variables.keys()\n",
      "\n",
      "# pressure = ...\n",
      "# ncfiles = netcCDF4.Dataset( ...\n"
     ],
     "language": "python",
     "metadata": {},
     "outputs": []
    },
    {
     "cell_type": "markdown",
     "metadata": {},
     "source": [
      "## Exercise 3.2\n",
      "### Load temperature and specific humidity"
     ]
    },
    {
     "cell_type": "code",
     "collapsed": false,
     "input": [
      "# t = ... \n",
      "# q = ...\n"
     ],
     "language": "python",
     "metadata": {},
     "outputs": []
    },
    {
     "cell_type": "markdown",
     "metadata": {},
     "source": [
      "## Exercise 3.3\n",
      "### Compute the equivalent potential temperature using the following information:"
     ]
    },
    {
     "cell_type": "markdown",
     "metadata": {},
     "source": [
      "Calculate it for the 850 hPa pressure level\n",
      "\n",
      "Simple equation of the potential temperature $\\Theta_{e}$:\n",
      "\\begin{equation}\n",
      "\\Theta_{e} = T \\cdot (1000/P)^{0.286} + 3\\cdot w\n",
      "\\end{equation}\n",
      "\n",
      "with T, temperature in K, P the pressure in hPa, w, mixing ratio in g kg$^{-1}$.\n",
      "\n",
      "The mixing ratio (kg kg$^{-1}$) can be expressed as :\n",
      "\\begin{equation}\n",
      "w = \\frac{1}{\\frac{1}{q_{v}}-1}\n",
      "\\end{equation}\n",
      "with $q_{v}$, the specific humidity in kg kg $^{-1}$"
     ]
    },
    {
     "cell_type": "code",
     "collapsed": false,
     "input": [],
     "language": "python",
     "metadata": {},
     "outputs": []
    },
    {
     "cell_type": "markdown",
     "metadata": {},
     "source": [
      "## Exercise 3.3 \n",
      "### Plot $\\Theta_{e}$ on a map\n",
      "* Use the domain 50W / 20N to 50E / 80N\n",
      "* Use m.contourf\n",
      "* np.meshgrid can be used to create a grid"
     ]
    },
    {
     "cell_type": "code",
     "collapsed": false,
     "input": [],
     "language": "python",
     "metadata": {},
     "outputs": []
    },
    {
     "cell_type": "markdown",
     "metadata": {},
     "source": [
      "## Exercise 3.4\n",
      "### Calculate the integrated water vapor flux\n",
      "$$IVT = \\sqrt{\\frac{1}{g}\\left(\\int q_{v}\\cdot u\\,dp \\right)^{2}+ \\left(\\int q_{v}\\cdot v\\,dp  \\right)^{2}}$$\n",
      "* use np.trapz to integrate over pressure level"
     ]
    },
    {
     "cell_type": "code",
     "collapsed": false,
     "input": [],
     "language": "python",
     "metadata": {},
     "outputs": []
    },
    {
     "cell_type": "markdown",
     "metadata": {},
     "source": [
      "## Exercise 3.5\n",
      "### Add IVT contours to the $\\Theta_{e}$ plot\n",
      "* use m.contour\n",
      "* using the YlGnBu colormap for $\\Theta_{e}$ is quite nice"
     ]
    },
    {
     "cell_type": "code",
     "collapsed": false,
     "input": [],
     "language": "python",
     "metadata": {},
     "outputs": []
    },
    {
     "cell_type": "markdown",
     "metadata": {},
     "source": [
      "<a rel=\"license\" href=\"http://creativecommons.org/licenses/by-nc/4.0/\"><img alt=\"Creative Commons License\" style=\"border-width:0\" src=\"https://i.creativecommons.org/l/by-nc/4.0/88x31.png\" /></a><br />This IPython Notebook is licensed under a <a rel=\"license\" href=\"http://creativecommons.org/licenses/by-nc/4.0/\">Creative Commons Attribution-NonCommercial 4.0 International License</a>."
     ]
    }
   ],
   "metadata": {}
  }
 ]
}