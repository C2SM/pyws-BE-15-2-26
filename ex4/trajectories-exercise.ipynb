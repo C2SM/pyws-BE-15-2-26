{
 "metadata": {
  "name": "",
  "signature": "sha256:1e306561a657f4bd7b5c236f4f1c05adea8b6881fc202392ee7e225af37f53d0"
 },
 "nbformat": 3,
 "nbformat_minor": 0,
 "worksheets": [
  {
   "cells": [
    {
     "cell_type": "markdown",
     "metadata": {},
     "source": [
      "**This exercise was developed by Nicolas Piaget**. It uses code that has been developed in the [Atmospheric Dynamics Group at ETH Zurich](http://www.iac.ethz.ch/groups/wernli). Please care for proper acknowledgements, in case you are using this notebook for teaching or if you redistribute it or derived works.\n",
      "\n",
      "<a rel=\"license\" href=\"http://creativecommons.org/licenses/by-nc/4.0/\"><img alt=\"Creative Commons License\" style=\"border-width:0\" src=\"https://i.creativecommons.org/l/by-nc/4.0/88x31.png\" /></a><br />This IPython Notebook is licensed under a <a rel=\"license\" href=\"http://creativecommons.org/licenses/by-nc/4.0/\">Creative Commons Attribution-NonCommercial 4.0 International License</a>.\n",
      "\n",
      "***"
     ]
    },
    {
     "cell_type": "markdown",
     "metadata": {},
     "source": [
      "## Preparation\n",
      "### Import some necessary modules for making nice specialized figures.\n",
      "\n",
      "The module `lagranto` is part of the Lagrangian Analysis Tool, [\"LAGRANTO\"](http://www.geosci-model-dev-discuss.net/8/1893/2015/gmdd-8-1893-2015.html) ([SVN](https://svn.iac.ethz.ch/websvn/pub/)).\n"
     ]
    },
    {
     "cell_type": "code",
     "collapsed": false,
     "input": [
      "%pylab inline\n",
      "rcParams['figure.figsize'] = (10,6)\n",
      "from scipy import interpolate\n",
      "from lagranto import Tra\n",
      "from mpl_toolkits.axes_grid1 import AxesGrid\n",
      "import matplotlib.gridspec as gridspec\n",
      "from mpl_toolkits.basemap import Basemap\n",
      "from matplotlib.collections import LineCollection"
     ],
     "language": "python",
     "metadata": {},
     "outputs": []
    },
    {
     "cell_type": "markdown",
     "metadata": {},
     "source": [
      "### Loading trajectories using Tra"
     ]
    },
    {
     "cell_type": "code",
     "collapsed": false,
     "input": [
      "filename = 'data/lsl_20070119_12_ana_48'\n",
      "trajs = Tra(filename)\n",
      "print trajs\n",
      "print trajs.shape"
     ],
     "language": "python",
     "metadata": {},
     "outputs": []
    },
    {
     "cell_type": "markdown",
     "metadata": {},
     "source": [
      "***\n",
      "## Play around with the data\n",
      "* Explore the data using Notebook feature like !, tab-completation on trajs.\n",
      "* print the time of the first trajectorie using trajs['time']\n",
      "* print the pressure at the starting time of all trajectories"
     ]
    },
    {
     "cell_type": "code",
     "collapsed": false,
     "input": [],
     "language": "python",
     "metadata": {},
     "outputs": [],
     "prompt_number": 1
    },
    {
     "cell_type": "markdown",
     "metadata": {},
     "source": [
      "## Exercise 4.1\n",
      "### Interpolate PV on evenly spaced pressure level\n",
      "Interpolate at each 50hPa pressure level between 1000hPa and 200hPa\n",
      "\n",
      "Hint: Use the scipy.interpolate module"
     ]
    },
    {
     "cell_type": "code",
     "collapsed": false,
     "input": [],
     "language": "python",
     "metadata": {},
     "outputs": []
    },
    {
     "cell_type": "markdown",
     "metadata": {},
     "source": [
      "## Exercise 4.2\n",
      "### Plot the mean, mean + std, mean - std of PV interpolated on pressure levels\n",
      "Use the decreasing pressure as x axis\n",
      "hint:\n",
      "* use np.nanmean and np.nanstd\n",
      "* use matplotlib fill_bewteen function"
     ]
    },
    {
     "cell_type": "code",
     "collapsed": false,
     "input": [],
     "language": "python",
     "metadata": {},
     "outputs": []
    },
    {
     "cell_type": "markdown",
     "metadata": {},
     "source": [
      "## Exercise 4.3\n",
      "### Plot the same paramaters as above for TH, RH, PV, Q in a 4x4 plot\n",
      "Hint : use the AxesGrid class from the mpl_toolkits.axes_grid1 module"
     ]
    },
    {
     "cell_type": "code",
     "collapsed": false,
     "input": [],
     "language": "python",
     "metadata": {},
     "outputs": []
    },
    {
     "cell_type": "markdown",
     "metadata": {},
     "source": [
      "## Exercise 4.4\n",
      "### Do a scatter plot of Q versus PV, with points colored by pressure"
     ]
    },
    {
     "cell_type": "code",
     "collapsed": false,
     "input": [],
     "language": "python",
     "metadata": {},
     "outputs": []
    },
    {
     "cell_type": "markdown",
     "metadata": {},
     "source": [
      "## Exercise 4.5\n",
      "### Plot TH values at each P level in the form of a boxplot"
     ]
    },
    {
     "cell_type": "code",
     "collapsed": false,
     "input": [],
     "language": "python",
     "metadata": {},
     "outputs": []
    },
    {
     "cell_type": "markdown",
     "metadata": {},
     "source": [
      "## Exercise 4.6\n",
      "### Plot the trajectories on a map\n",
      "Hint : Use the Basemap class from the mpl_toolkits.basemap module"
     ]
    },
    {
     "cell_type": "code",
     "collapsed": false,
     "input": [],
     "language": "python",
     "metadata": {},
     "outputs": []
    },
    {
     "cell_type": "markdown",
     "metadata": {},
     "source": [
      "## Exercise 4.7\n",
      "### Plot the trajectories on a map, coloring them with pressure\n",
      "Hint : Use the LineCollection class from matplotlib.collections module"
     ]
    },
    {
     "cell_type": "code",
     "collapsed": false,
     "input": [],
     "language": "python",
     "metadata": {},
     "outputs": []
    },
    {
     "cell_type": "markdown",
     "metadata": {},
     "source": [
      "<a rel=\"license\" href=\"http://creativecommons.org/licenses/by-nc/4.0/\"><img alt=\"Creative Commons License\" style=\"border-width:0\" src=\"https://i.creativecommons.org/l/by-nc/4.0/88x31.png\" /></a><br />This IPython Notebook is licensed under a <a rel=\"license\" href=\"http://creativecommons.org/licenses/by-nc/4.0/\">Creative Commons Attribution-NonCommercial 4.0 International License</a>."
     ]
    }
   ],
   "metadata": {}
  }
 ]
}